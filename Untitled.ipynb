{
 "cells": [
  {
   "cell_type": "code",
   "execution_count": 3,
   "metadata": {},
   "outputs": [
    {
     "name": "stdout",
     "output_type": "stream",
     "text": [
      "95.39579967689822%\n"
     ]
    }
   ],
   "source": [
    "var fs = require('fs');\n",
    "var obj;\n",
    "fs.readFile('/home/simplonco/2013.json', 'utf8', function (err, data) {\n",
    "  if (err) throw err;\n",
    "  obj = JSON.parse(data);\n",
    "});\n",
    "\n",
    "console.log(obj.filter(x => x[\"civilité\"] == \"Madame\").length / obj.length * 100 + \"%\");"
   ]
  },
  {
   "cell_type": "code",
   "execution_count": null,
   "metadata": {
    "collapsed": true
   },
   "outputs": [],
   "source": []
  }
 ],
 "metadata": {
  "kernelspec": {
   "display_name": "Javascript (Node.js)",
   "language": "javascript",
   "name": "javascript"
  },
  "language_info": {
   "file_extension": ".js",
   "mimetype": "application/javascript",
   "name": "javascript",
   "version": "6.11.0"
  }
 },
 "nbformat": 4,
 "nbformat_minor": 2
}
